{
 "cells": [
  {
   "cell_type": "code",
   "execution_count": 1,
   "metadata": {},
   "outputs": [],
   "source": [
    "import numpy as np\n",
    "from matplotlib import pyplot as plt"
   ]
  },
  {
   "cell_type": "code",
   "execution_count": 15,
   "metadata": {},
   "outputs": [],
   "source": [
    "evd = np.genfromtxt(\"/home/salv/Dokumente/Masterarbeit/tua_LH_LO_multileg_ANA/data/dec_Photon_PT.txt\")\n",
    "evp = np.genfromtxt(\"/home/salv/Dokumente/Masterarbeit/tua_LH_LO_multileg_ANA/data/pro_Photon_PT.txt\")\n",
    "evi = np.genfromtxt(\"/home/salv/Dokumente/Masterarbeit/tua_LH_LO_multileg_ANA/data/int_Photon_PT.txt\")"
   ]
  },
  {
   "cell_type": "code",
   "execution_count": 3,
   "metadata": {},
   "outputs": [],
   "source": [
    "evp = evp[evp!=0];evp=np.clip(evp,0,600)\n",
    "evd = evd[evd!=0];evd=np.clip(evd,0,600)\n",
    "evi = evi[evi!=0];evi=np.clip(evi,0,600)\n",
    "decay_fraction = 2266./7084.\n",
    "prod_fraction = 4818./7084."
   ]
  },
  {
   "cell_type": "code",
   "execution_count": 4,
   "metadata": {},
   "outputs": [
    {
     "name": "stdout",
     "output_type": "stream",
     "text": [
      "2530\n",
      "3774\n",
      "2829\n"
     ]
    }
   ],
   "source": [
    "print(len(evp))\n",
    "print(len(evd))\n",
    "print(len(evi))"
   ]
  },
  {
   "cell_type": "code",
   "execution_count": 5,
   "metadata": {},
   "outputs": [
    {
     "name": "stdout",
     "output_type": "stream",
     "text": [
      "1.0000000000000004\n",
      "1.0000000000000004\n",
      "1.0000000000000004\n"
     ]
    },
    {
     "data": {
      "image/png": "[encoded data removed]",
      "text/plain": [
       "<matplotlib.figure.Figure at 0x7fc133b47be0>"
      ]
     },
     "metadata": {},
     "output_type": "display_data"
    }
   ],
   "source": [
    "w1 = np.ones_like(evp)/len(evp)\n",
    "npr, bpr, a = plt.hist(evp,weights=w1,range=(0,600),bins=64,histtype=\"step\",lw=0.8,color=\"blue\")\n",
    "print(np.sum(npr))\n",
    "w2 = np.ones_like(evd)/len(evd)\n",
    "ndr, bdr, a = plt.hist(evd,weights=w2,range=(0,600),bins=bpr,histtype=\"step\",lw=0.8,color=\"red\")\n",
    "print(np.sum(npr))\n",
    "wi = np.ones_like(evi)/len(evi)\n",
    "nir, bir, a = plt.hist(evi,weights=wi,range=(0,600),bins=bpr,histtype=\"step\",lw=0.8,color=\"green\")\n",
    "print(np.sum(npr))"
   ]
  },
  {
   "cell_type": "code",
   "execution_count": 6,
   "metadata": {},
   "outputs": [
    {
     "name": "stdout",
     "output_type": "stream",
     "text": [
      "0.6801242236024841\n",
      "0.3198757763975168\n",
      "0.9999999999999665\n",
      "1.0000000000000009\n"
     ]
    },
    {
     "data": {
      "image/png": "[encoded data removed]",
      "text/plain": [
       "<matplotlib.figure.Figure at 0x7fc133b777f0>"
      ]
     },
     "metadata": {},
     "output_type": "display_data"
    }
   ],
   "source": [
    "w1 = np.ones_like(evp)/len(evp)*prod_fraction\n",
    "npr, bpr, a = plt.hist(evp,weights=w1,range=(0,600),bins=64,histtype=\"step\",lw=0.8,color=\"blue\")\n",
    "print(np.sum(npr))\n",
    "w2 = np.ones_like(evd)/len(evd)*decay_fraction\n",
    "ndr, bdr, a = plt.hist(evd,weights=w2,range=(0,600),bins=bpr,histtype=\"step\",lw=0.8,color=\"red\")\n",
    "print(np.sum(ndr))\n",
    "wi = np.ones_like(evi)/len(evi)\n",
    "nir, bir, a = plt.hist(evi,weights=wi,range=(0,600),bins=bpr,histtype=\"step\",lw=0.8,color=\"green\")\n",
    "print(np.sum(nir))\n",
    "n,b,a = plt.hist(bpr[1:]-np.diff(bpr)/2,bins=bpr,weights=ndr+npr,histtype=\"step\",lw=0.8,color=\"black\")\n",
    "print(np.sum(n))"
   ]
  },
  {
   "cell_type": "code",
   "execution_count": 7,
   "metadata": {},
   "outputs": [],
   "source": [
    "evd = np.genfromtxt(\"/home/salv/Dokumente/Masterarbeit/tua_LH_LO_multileg_ANA/data/dec_Photon_PT.txt\")\n",
    "evp = np.genfromtxt(\"/home/salv/Dokumente/Masterarbeit/tua_LH_LO_multileg_ANA/data/pro_Photon_PT.txt\")\n",
    "evp = evp[evp!=0];evp=np.clip(evp,0,800)\n",
    "evd = evd[evd!=0];evd=np.clip(evd,0,800)"
   ]
  },
  {
   "cell_type": "code",
   "execution_count": 6,
   "metadata": {},
   "outputs": [],
   "source": [
    "def plot_error_region2(yvalues,yerrors,bins,color='orange'):\n",
    "\tbins_a = bins[:-1]\n",
    "\tbins_e = bins[1:]\n",
    "\tbins_m = (bins_a+bins_e)/2\n",
    "\tplt.errorbar(bins_m,yvalues,yerr=yerrors,drawstyle = 'steps-mid',color=color,lw=0.5)\n",
    "    \n",
    "def plot_error_region2ax(ax,yvalues,yerrors,bins,color='orange'):\n",
    "\tbins_a = bins[:-1]\n",
    "\tbins_e = bins[1:]\n",
    "\tbins_m = (bins_a+bins_e)/2\n",
    "\tax.errorbar(bins_m,yvalues,yerr=yerrors,drawstyle = 'steps-mid',color=color,lw=0.5)"
   ]
  },
  {
   "cell_type": "code",
   "execution_count": 9,
   "metadata": {
    "scrolled": true
   },
   "outputs": [
    {
     "data": {
      "text/plain": [
       "<matplotlib.legend.Legend at 0x7fc1339939e8>"
      ]
     },
     "execution_count": 9,
     "metadata": {},
     "output_type": "execute_result"
    },
    {
     "data": {
      "image/png": "[encoded data removed]",
      "text/plain": [
       "<matplotlib.figure.Figure at 0x7fc13398c0b8>"
      ]
     },
     "metadata": {},
     "output_type": "display_data"
    }
   ],
   "source": [
    "npr, bpr, ar = plt.hist(evp,label=\"production mode\",range=(0,800),bins=64,histtype=\"step\",lw=0.5,color=\"blue\")\n",
    "ndr, bdr, ar = plt.hist(evd,label=\"decay mode\",range=(0,800),bins=bpr,histtype=\"step\",lw=0.5,color=\"red\")\n",
    "\n",
    "npN, bpN, a = plt.hist(evp,label=\"production mode\",weights=np.ones_like(evp)/len(evp),range=(0,800),bins=bpr,histtype=\"step\",lw=0.5,color=\"blue\")\n",
    "ndN, bdN, a = plt.hist(evd,label=\"decay mode\",weights=np.ones_like(evd)/len(evd),range=(0,800),bins=bpr,histtype=\"step\",lw=0.5,color=\"red\")\n",
    "plt.grid(alpha=0.5)\n",
    "\n",
    "plt.legend(loc=\"best\")"
   ]
  },
  {
   "cell_type": "code",
   "execution_count": 10,
   "metadata": {},
   "outputs": [
    {
     "name": "stderr",
     "output_type": "stream",
     "text": [
      "/home/salv/.local/lib/python3.5/site-packages/ipykernel_launcher.py:7: RuntimeWarning: divide by zero encountered in true_divide\n",
      "  import sys\n",
      "/home/salv/.local/lib/python3.5/site-packages/ipykernel_launcher.py:7: RuntimeWarning: invalid value encountered in multiply\n",
      "  import sys\n",
      "/home/salv/.local/lib/python3.5/site-packages/ipykernel_launcher.py:8: RuntimeWarning: divide by zero encountered in true_divide\n",
      "  \n",
      "/home/salv/.local/lib/python3.5/site-packages/ipykernel_launcher.py:8: RuntimeWarning: invalid value encountered in multiply\n",
      "  \n"
     ]
    },
    {
     "data": {
      "image/png": "[encoded data removed]",
      "text/plain": [
       "<matplotlib.figure.Figure at 0x7fc133b77898>"
      ]
     },
     "metadata": {},
     "output_type": "display_data"
    }
   ],
   "source": [
    "npr, bpr, ar = plt.hist(evp,label=\"production mode\",range=(0,800),bins=64,histtype=\"step\",lw=0.5,color=\"blue\")\n",
    "ndr, bdr, ar = plt.hist(evd,label=\"decay mode\",range=(0,800),bins=bpr,histtype=\"step\",lw=0.5,color=\"red\")\n",
    "plt.close()\n",
    "npN, bpN, a1 = plt.hist(evp,label=\"production mode\",weights=np.ones_like(evp)/len(evp),range=(0,800),bins=bpr,histtype=\"step\",lw=0.5,color=\"blue\")\n",
    "ndN, bdN, a2 = plt.hist(evd,label=\"decay mode\",weights=np.ones_like(evd)/len(evd),range=(0,800),bins=bpr,histtype=\"step\",lw=0.5,color=\"red\")\n",
    "\n",
    "plot_error_region2(npN,1/np.sqrt(npr)*npN, bpr,\"blue\")\n",
    "plot_error_region2(ndN,1/np.sqrt(ndr)*ndN, bpr,\"red\")\n",
    "plt.grid(alpha=0.5)\n",
    "plt.xlabel(r\"$p_T(\\gamma) /$GeV\")\n",
    "plt.ylabel(\"Number of events (normalized)\",rotation=90)\n",
    "ax = plt.gca()\n",
    "ax.yaxis.set_label_coords(-0.1,0.5)\n",
    "plt.legend(title=\"\\t\"+r\"$\\sqrt{s} = 13$TeV\"+\"\\t\",loc=\"best\")\n",
    "plt.savefig(\"Untitled Folder/test.pdf\",bbox_inches=\"tight\")"
   ]
  },
  {
   "cell_type": "code",
   "execution_count": 11,
   "metadata": {},
   "outputs": [
    {
     "data": {
      "text/plain": [
       "<matplotlib.legend.Legend at 0x7fc1338fe2e8>"
      ]
     },
     "execution_count": 11,
     "metadata": {},
     "output_type": "execute_result"
    },
    {
     "data": {
      "image/png": "[encoded data removed]",
      "text/plain": [
       "<matplotlib.figure.Figure at 0x7fc133903ac8>"
      ]
     },
     "metadata": {},
     "output_type": "display_data"
    }
   ],
   "source": [
    "plt.plot(np.arange(1,10),np.arange(1,10),label=\"Hallo\")\n",
    "plt.plot(np.arange(1,10),np.arange(2,11),label=\"Hallo2\")\n",
    "plt.axvline(2)\n",
    "plt.legend(loc=\"upper right\")"
   ]
  },
  {
   "cell_type": "code",
   "execution_count": 74,
   "metadata": {},
   "outputs": [],
   "source": [
    "import numpy as np\n",
    "from matplotlib import pyplot as plt\n",
    "def plot_error_region2(yvalues,yerrors,bins,color='orange'):\n",
    "\tbins_a = bins[:-1]\n",
    "\tbins_e = bins[1:]\n",
    "\tbins_m = (bins_a+bins_e)/2\n",
    "\tplt.errorbar(bins_m,yvalues,yerr=yerrors,drawstyle = 'steps-mid',color=color,lw=0.5)\n",
    "    \n",
    "def plot_error_region2ax(ax,yvalues,yerrors,bins,color='orange'):\n",
    "\tbins_a = bins[:-1]\n",
    "\tbins_e = bins[1:]\n",
    "\tbins_m = (bins_a+bins_e)/2\n",
    "\tax.errorbar(bins_m,yvalues,yerr=yerrors,drawstyle = 'steps-mid',color=color,lw=0.5)\n",
    "#evd = np.genfromtxt(\"/home/salv/Dokumente/Masterarbeit/tua_LH_LO_multileg_ANA/data/dec_Photon_UQuark_M_truth.txt\")\n",
    "#evp = np.genfromtxt(\"/home/salv/Dokumente/Masterarbeit/tua_LH_LO_multileg_ANA/data/pro_Photon_UQuark_M_truth.txt\")\n",
    "#evi = np.genfromtxt(\"/home/salv/Dokumente/Masterarbeit/tua_LH_LO_multileg_ANA/data/int_Photon_UQuark_M_truth.txt\")\n",
    "evd = np.genfromtxt(\"/home/salv/Dokumente/Masterarbeit/tua_LH_LO_multileg_ANA/data/dec_Photon_PT.txt\")\n",
    "evp = np.genfromtxt(\"/home/salv/Dokumente/Masterarbeit/tua_LH_LO_multileg_ANA/data/pro_Photon_PT.txt\")\n",
    "evi = np.genfromtxt(\"/home/salv/Dokumente/Masterarbeit/tua_LH_LO_multileg_ANA/data/int_Photon_PT.txt\")\n",
    "evd = np.genfromtxt(\"/home/salv/Dokumente/Masterarbeit/tua_LH_LO_multileg_ANA/data/dec_Photon_PT_truth.txt\")\n",
    "evp = np.genfromtxt(\"/home/salv/Dokumente/Masterarbeit/tua_LH_LO_multileg_ANA/data/pro_Photon_PT_truth.txt\")\n",
    "evi = np.genfromtxt(\"/home/salv/Dokumente/Masterarbeit/tua_LH_LO_multileg_ANA/data/int_Photon_PT_truth.txt\")\n",
    "lower_range = 0\n",
    "upper_range = 600\n",
    "nbin=64\n",
    "\n",
    "evp = evp[evp!=0];evp=np.clip(evp,lower_range,upper_range)\n",
    "evd = evd[evd!=0];evd=np.clip(evd,lower_range,upper_range)\n",
    "evi = evi[evi!=0];evi=np.clip(evi,lower_range,upper_range)\n",
    "\n",
    "decay_fraction = 2266./7084.\n",
    "prod_fraction = 4818./7084."
   ]
  },
  {
   "cell_type": "code",
   "execution_count": 75,
   "metadata": {},
   "outputs": [],
   "source": [
    "#w1 = np.ones_like(evp)/len(evp)*prod_fraction\n",
    "#npr, bpr, a = plt.hist(evp,weights=w1,range=(lower_range,upper_range),bins=np.logspace(np.log10(lower_range),np.log10(upper_range),nbin),histtype=\"step\",lw=0.8,color=\"blue\")\n",
    "#w2 = np.ones_like(evd)/len(evd)*decay_fraction\n",
    "#ndr, bdr, a = plt.hist(evd,weights=w2,range=(lower_range,upper_range),bins=bpr,histtype=\"step\",lw=0.8,color=\"red\")\n",
    "#wi = np.ones_like(evi)/len(evi)#\n",
    "#nir, bir, a = plt.hist(evi,weights=wi,range=(lower_range,upper_range),bins=bpr,histtype=\"step\",lw=0.8,color=\"green\")\n",
    "#plt.xscale(\"log\")\n",
    "#plt.xlim(lower_range,upper_range)\n",
    "#n,b,a = plt.hist(bpr[1:]-np.diff(bpr)/2,bins=bpr,weights=ndr+npr,histtype=\"step\",lw=0.8,color=\"black\")\n",
    "#plt.yscale(\"log\")\n",
    "#plt.ylim(0.01,0.3)"
   ]
  },
  {
   "cell_type": "code",
   "execution_count": 76,
   "metadata": {},
   "outputs": [],
   "source": [
    "w1 = np.ones_like(evp)*prod_fraction\n",
    "nprV, bpr, aV = plt.hist(evp,weights=w1,range=(lower_range,upper_range),bins=nbin,histtype=\"step\",lw=0.8,color=\"blue\")\n",
    "\n",
    "w2 = np.ones_like(evd)*decay_fraction\n",
    "ndrV, bdrV, aV = plt.hist(evd,weights=w2,range=(lower_range,upper_range),bins=bpr,histtype=\"step\",lw=0.8,color=\"red\")\n",
    "\n",
    "wi = np.ones_like(evi)\n",
    "nirV, birV, aV = plt.hist(evi,weights=wi,range=(lower_range,upper_range),bins=bpr,histtype=\"step\",lw=0.8,color=\"black\")\n",
    "\n",
    "nV,bV,aV = plt.hist(bpr[1:]-np.diff(bpr)/2,bins=bpr,weights=ndrV+nprV,histtype=\"step\",lw=0.8,color=\"green\")\n",
    "\n",
    "\n",
    "plt.close()"
   ]
  },
  {
   "cell_type": "code",
   "execution_count": 83,
   "metadata": {},
   "outputs": [
    {
     "name": "stderr",
     "output_type": "stream",
     "text": [
      "/home/salv/.local/lib/python3.5/site-packages/ipykernel_launcher.py:25: RuntimeWarning: divide by zero encountered in true_divide\n",
      "/home/salv/.local/lib/python3.5/site-packages/ipykernel_launcher.py:25: RuntimeWarning: invalid value encountered in multiply\n"
     ]
    },
    {
     "data": {
      "image/png": "[encoded data removed]",
      "text/plain": [
       "<matplotlib.figure.Figure at 0x7fd938177588>"
      ]
     },
     "metadata": {},
     "output_type": "display_data"
    }
   ],
   "source": [
    "from matplotlib import gridspec\n",
    "gs = gridspec.GridSpec(2, 1, width_ratios=[1],height_ratios=[3,1]) \n",
    "\n",
    "f, (ax1, ax2) = plt.subplots(2, 1, sharex=True)\n",
    "\n",
    "gs1 = gridspec.GridSpec(3, 1)\n",
    "gs1.update(left=0.05, right=0.48, wspace=0.05)\n",
    "ax1 = plt.subplot(gs[0])\n",
    "ax2 = plt.subplot(gs[1])\n",
    "\n",
    "\n",
    "w1 = np.ones_like(evp)/len(evp)*prod_fraction\n",
    "npr, bpr, a = ax1.hist(evp,weights=w1,range=(lower_range,upper_range),bins=bpr,histtype=\"step\",lw=0.8,color=\"blue\")\n",
    "\n",
    "w2 = np.ones_like(evd)/len(evd)*decay_fraction\n",
    "ndr, bdr, a = ax1.hist(evd,weights=w2,range=(lower_range,upper_range),bins=bpr,histtype=\"step\",lw=0.8,color=\"red\")\n",
    "\n",
    "wi = np.ones_like(evi)/len(evi)\n",
    "nir, bir, a = ax1.hist(evi,weights=wi,range=(lower_range,upper_range),bins=bpr,histtype=\"step\",lw=0.8,color=\"black\")\n",
    "\n",
    "n,b,a = ax1.hist(bpr[1:]-np.diff(bpr)/2,bins=bpr,weights=ndr+npr,histtype=\"step\",lw=0.8,color=\"green\")\n",
    "\n",
    "\n",
    "plot_error_region2ax(ax1,npr,npr*np.sqrt(1/nprV), bpr,\"blue\")\n",
    "plot_error_region2ax(ax1,ndr,ndr*np.sqrt(1/ndrV), bpr,\"red\")\n",
    "plot_error_region2ax(ax1,nir,nir*np.sqrt(1/nirV), bpr,\"black\")\n",
    "plot_error_region2ax(ax1,n,n*np.sqrt(1/nV), bpr,\"green\")\n",
    "ax1.grid(alpha=0.6)\n",
    "\n",
    "\n",
    "ax2.hist(bpr[1:]-np.diff(bpr)/2,bins=bpr,weights=np.ones_like(bpr[1:]),histtype=\"step\",lw=0.8,color=\"black\")\n",
    "w=n/nir;w[w==np.inf] = np.nan;w[np.isnan(w)] = 0\n",
    "\n",
    "nn,bb,aa = ax2.hist(bpr[1:]-np.diff(bpr)/2,alpha=0,bins=bpr,weights=w,histtype=\"step\",lw=0.8,color=\"green\")\n",
    "\n",
    "error = np.sqrt((np.sqrt(nV)/nV)**2 + (np.sqrt(nirV)/nirV)**2)\n",
    "ax2.errorbar(bpr[1:]-np.diff(bpr)/2,nn,xerr=np.diff(bpr)/2,yerr=error,fmt=\"none\",color=\"green\",lw=0.8)\n",
    "\n",
    "ax1.set_xlim(lower_range,upper_range)\n",
    "ax2.set_xlim(lower_range,upper_range)\n",
    "#ax2.set_ylim(0,2)\n",
    "\n",
    "ax2.set_ylabel(\"Dec+Pro/Int\")\n",
    "plt.grid(alpha=0.5)\n",
    "#plt.ylim(-20,20)\n",
    "plt.xlabel(r\"$p_T(\\gamma) /$GeV\")\n",
    "ax1.set_ylabel(\"Number of events (normalized)\",rotation=90)\n",
    "#ax = plt.gca()\n",
    "#ax1.yaxis.set_label_coords(-0.8,+2.5)\n",
    "#plt.legend(loc=\"best\")\n",
    "#gs.tight_layout(f)\n",
    "plt.savefig(\"Untitled Folder/test.pdf\",bbox_inches=\"tight\")"
   ]
  },
  {
   "cell_type": "code",
   "execution_count": 73,
   "metadata": {},
   "outputs": [
    {
     "name": "stderr",
     "output_type": "stream",
     "text": [
      "/home/salv/.local/lib/python3.5/site-packages/ipykernel_launcher.py:1: RuntimeWarning: invalid value encountered in true_divide\n",
      "  \"\"\"Entry point for launching an IPython kernel.\n"
     ]
    }
   ],
   "source": [
    "w = n/nir\n",
    "w[w==np.inf] = np.nan"
   ]
  },
  {
   "cell_type": "code",
   "execution_count": 130,
   "metadata": {},
   "outputs": [
    {
     "name": "stdout",
     "output_type": "stream",
     "text": [
      "64\n",
      "64\n",
      "[ True  True False False False False False False False False False False\n",
      " False False False False False False False False False False False False\n",
      " False False False False False False False False False False False False\n",
      " False False False False False False False False False False False False\n",
      " False False False False False False False  True False False False False\n",
      " False False  True False]\n"
     ]
    },
    {
     "data": {
      "text/plain": [
       "(array([0.        , 0.        , 0.72673705, 0.9138851 , 0.95489601,\n",
       "        0.97612612, 0.80619374, 0.82535746, 0.8663519 , 0.94335216,\n",
       "        1.03395666, 0.98183571, 0.96782829, 1.23415522, 1.21810327,\n",
       "        1.16643454, 1.02047472, 1.06976796, 1.23124291, 1.14105173,\n",
       "        1.16211229, 1.11648431, 0.89653045, 1.25309689, 1.0575997 ,\n",
       "        1.53666208, 1.167396  , 0.96694478, 1.72841487, 1.03297572,\n",
       "        1.01294791, 0.79219015, 1.50539713, 0.69966234, 0.81051665,\n",
       "        0.88656691, 1.14075381, 2.49879406, 2.47163326, 1.56096836,\n",
       "        1.06470356, 0.63375212, 0.95062818, 0.68445229, 1.21680407,\n",
       "        1.21680407, 1.01400339, 1.52100508, 0.60840203, 1.96120128,\n",
       "        0.45630152, 1.77450593, 1.01400339, 5.32351779, 0.88725296,\n",
       "        0.        , 0.76050254, 0.50700169, 0.25350085, 1.52100508,\n",
       "        0.76050254, 0.76050254, 0.        , 0.92950311]),\n",
       " array([  0. ,  12.5,  25. ,  37.5,  50. ,  62.5,  75. ,  87.5, 100. ,\n",
       "        112.5, 125. , 137.5, 150. , 162.5, 175. , 187.5, 200. , 212.5,\n",
       "        225. , 237.5, 250. , 262.5, 275. , 287.5, 300. , 312.5, 325. ,\n",
       "        337.5, 350. , 362.5, 375. , 387.5, 400. , 412.5, 425. , 437.5,\n",
       "        450. , 462.5, 475. , 487.5, 500. , 512.5, 525. , 537.5, 550. ,\n",
       "        562.5, 575. , 587.5, 600. , 612.5, 625. , 637.5, 650. , 662.5,\n",
       "        675. , 687.5, 700. , 712.5, 725. , 737.5, 750. , 762.5, 775. ,\n",
       "        787.5, 800. ]),\n",
       " <a list of 1 Patch objects>)"
      ]
     },
     "execution_count": 130,
     "metadata": {},
     "output_type": "execute_result"
    },
    {
     "data": {
      "image/png": "[encoded data removed]",
      "text/plain": [
       "<matplotlib.figure.Figure at 0x7fc12d1d5f98>"
      ]
     },
     "metadata": {},
     "output_type": "display_data"
    }
   ],
   "source": [
    "print(len(w))\n",
    "print(len(bpr[1:]-np.diff(bpr)/2))\n",
    "print(np.isnan(w))\n",
    "w[np.isnan(w)] = 0\n",
    "plt.hist(bpr[1:]-np.diff(bpr)/2,bins=bpr,weights=w,histtype=\"step\",lw=0.8,color=\"green\")"
   ]
  },
  {
   "cell_type": "code",
   "execution_count": null,
   "metadata": {},
   "outputs": [],
   "source": []
  },
  {
   "cell_type": "code",
   "execution_count": null,
   "metadata": {},
   "outputs": [],
   "source": []
  },
  {
   "cell_type": "code",
   "execution_count": null,
   "metadata": {},
   "outputs": [],
   "source": []
  },
  {
   "cell_type": "code",
   "execution_count": null,
   "metadata": {},
   "outputs": [],
   "source": []
  },
  {
   "cell_type": "code",
   "execution_count": null,
   "metadata": {},
   "outputs": [],
   "source": []
  },
  {
   "cell_type": "code",
   "execution_count": null,
   "metadata": {},
   "outputs": [],
   "source": []
  },
  {
   "cell_type": "code",
   "execution_count": null,
   "metadata": {},
   "outputs": [],
   "source": []
  },
  {
   "cell_type": "code",
   "execution_count": null,
   "metadata": {},
   "outputs": [],
   "source": []
  },
  {
   "cell_type": "code",
   "execution_count": null,
   "metadata": {},
   "outputs": [],
   "source": []
  },
  {
   "cell_type": "code",
   "execution_count": null,
   "metadata": {},
   "outputs": [],
   "source": []
  },
  {
   "cell_type": "code",
   "execution_count": null,
   "metadata": {},
   "outputs": [],
   "source": []
  },
  {
   "cell_type": "code",
   "execution_count": null,
   "metadata": {},
   "outputs": [],
   "source": []
  },
  {
   "cell_type": "code",
   "execution_count": null,
   "metadata": {},
   "outputs": [],
   "source": []
  },
  {
   "cell_type": "code",
   "execution_count": null,
   "metadata": {},
   "outputs": [],
   "source": []
  },
  {
   "cell_type": "code",
   "execution_count": null,
   "metadata": {},
   "outputs": [],
   "source": []
  },
  {
   "cell_type": "code",
   "execution_count": null,
   "metadata": {},
   "outputs": [],
   "source": []
  },
  {
   "cell_type": "code",
   "execution_count": null,
   "metadata": {},
   "outputs": [],
   "source": []
  },
  {
   "cell_type": "code",
   "execution_count": null,
   "metadata": {},
   "outputs": [],
   "source": []
  }
 ],
 "metadata": {
  "kernelspec": {
   "display_name": "Python 3",
   "language": "python",
   "name": "python3"
  },
  "language_info": {
   "codemirror_mode": {
    "name": "ipython",
    "version": 3
   },
   "file_extension": ".py",
   "mimetype": "text/x-python",
   "name": "python",
   "nbconvert_exporter": "python",
   "pygments_lexer": "ipython3",
   "version": "3.5.2"
  }
 },
 "nbformat": 4,
 "nbformat_minor": 2
}
