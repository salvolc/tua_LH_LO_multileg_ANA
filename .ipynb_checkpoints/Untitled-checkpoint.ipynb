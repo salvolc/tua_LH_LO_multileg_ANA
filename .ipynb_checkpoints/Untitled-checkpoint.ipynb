{
 "cells": [
  {
   "cell_type": "code",
   "execution_count": 13,
   "metadata": {},
   "outputs": [],
   "source": [
    "import numpy as np\n",
    "from matplotlib import pyplot as plt"
   ]
  },
  {
   "cell_type": "code",
   "execution_count": 2,
   "metadata": {},
   "outputs": [],
   "source": [
    "evd = np.genfromtxt(\"/home/salv/Dokumente/Masterarbeit/tua_LH_LO_multileg_ANA/data/dec_Photon_PT.txt\")\n",
    "evp = np.genfromtxt(\"/home/salv/Dokumente/Masterarbeit/tua_LH_LO_multileg_ANA/data/pro_Photon_PT.txt\")\n",
    "evi = np.genfromtxt(\"/home/salv/Dokumente/Masterarbeit/tua_LH_LO_multileg_ANA/data/int_Photon_PT.txt\")"
   ]
  },
  {
   "cell_type": "code",
   "execution_count": 3,
   "metadata": {},
   "outputs": [],
   "source": [
    "evp = evp[evp!=0];evp=np.clip(evp,0,600)\n",
    "evd = evd[evd!=0];evd=np.clip(evd,0,600)\n",
    "evi = evi[evi!=0];evi=np.clip(evi,0,600)\n",
    "decay_fraction = 2266./7084.\n",
    "prod_fraction = 4818./7084."
   ]
  },
  {
   "cell_type": "code",
   "execution_count": 4,
   "metadata": {},
   "outputs": [
    {
     "name": "stdout",
     "output_type": "stream",
     "text": [
      "2530\n",
      "3774\n",
      "2829\n"
     ]
    }
   ],
   "source": [
    "print(len(evp))\n",
    "print(len(evd))\n",
    "print(len(evi))"
   ]
  },
  {
   "cell_type": "code",
   "execution_count": 5,
   "metadata": {},
   "outputs": [
    {
     "name": "stdout",
     "output_type": "stream",
     "text": [
      "1.0000000000000004\n",
      "1.0000000000000004\n",
      "1.0000000000000004\n"
     ]
    },
    {
     "data": {
      "image/png": "[encoded data removed]",
      "text/plain": [
       "<matplotlib.figure.Figure at 0x7f44f868c908>"
      ]
     },
     "metadata": {},
     "output_type": "display_data"
    }
   ],
   "source": [
    "w1 = np.ones_like(evp)/len(evp)\n",
    "npr, bpr, a = plt.hist(evp,weights=w1,range=(0,600),bins=64,histtype=\"step\",lw=0.8,color=\"blue\")\n",
    "print(np.sum(npr))\n",
    "w2 = np.ones_like(evd)/len(evd)\n",
    "ndr, bdr, a = plt.hist(evd,weights=w2,range=(0,600),bins=bpr,histtype=\"step\",lw=0.8,color=\"red\")\n",
    "print(np.sum(npr))\n",
    "wi = np.ones_like(evi)/len(evi)\n",
    "nir, bir, a = plt.hist(evi,weights=wi,range=(0,600),bins=bpr,histtype=\"step\",lw=0.8,color=\"green\")\n",
    "print(np.sum(npr))"
   ]
  },
  {
   "cell_type": "code",
   "execution_count": 6,
   "metadata": {},
   "outputs": [
    {
     "name": "stdout",
     "output_type": "stream",
     "text": [
      "0.6801242236024841\n",
      "0.3198757763975168\n",
      "0.9999999999999665\n",
      "1.0000000000000009\n"
     ]
    },
    {
     "data": {
      "image/png": "[encoded data removed]",
      "text/plain": [
       "<matplotlib.figure.Figure at 0x7f44f85065f8>"
      ]
     },
     "metadata": {},
     "output_type": "display_data"
    }
   ],
   "source": [
    "w1 = np.ones_like(evp)/len(evp)*prod_fraction\n",
    "npr, bpr, a = plt.hist(evp,weights=w1,range=(0,600),bins=64,histtype=\"step\",lw=0.8,color=\"blue\")\n",
    "print(np.sum(npr))\n",
    "w2 = np.ones_like(evd)/len(evd)*decay_fraction\n",
    "ndr, bdr, a = plt.hist(evd,weights=w2,range=(0,600),bins=bpr,histtype=\"step\",lw=0.8,color=\"red\")\n",
    "print(np.sum(ndr))\n",
    "wi = np.ones_like(evi)/len(evi)\n",
    "nir, bir, a = plt.hist(evi,weights=wi,range=(0,600),bins=bpr,histtype=\"step\",lw=0.8,color=\"green\")\n",
    "print(np.sum(nir))\n",
    "n,b,a = plt.hist(bpr[1:]-np.diff(bpr)/2,bins=bpr,weights=ndr+npr,histtype=\"step\",lw=0.8,color=\"black\")\n",
    "print(np.sum(n))"
   ]
  },
  {
   "cell_type": "code",
   "execution_count": 7,
   "metadata": {},
   "outputs": [],
   "source": [
    "evd = np.genfromtxt(\"/home/salv/Dokumente/Masterarbeit/tua_LH_LO_multileg_ANA/data/dec_Photon_PT.txt\")\n",
    "evp = np.genfromtxt(\"/home/salv/Dokumente/Masterarbeit/tua_LH_LO_multileg_ANA/data/pro_Photon_PT.txt\")\n",
    "evp = evp[evp!=0];evp=np.clip(evp,0,800)\n",
    "evd = evd[evd!=0];evd=np.clip(evd,0,800)"
   ]
  },
  {
   "cell_type": "code",
   "execution_count": 10,
   "metadata": {},
   "outputs": [],
   "source": [
    "def plot_error_region2(yvalues,yerrors,bins,color='orange'):\n",
    "\tbins_a = bins[:-1]\n",
    "\tbins_e = bins[1:]\n",
    "\tbins_m = (bins_a+bins_e)/2\n",
    "\tplt.errorbar(bins_m,yvalues,yerr=yerrors,drawstyle = 'steps-mid',color=color,lw=0.5)"
   ]
  },
  {
   "cell_type": "code",
   "execution_count": 17,
   "metadata": {
    "scrolled": true
   },
   "outputs": [
    {
     "data": {
      "text/plain": [
       "<matplotlib.legend.Legend at 0x7f44f5ed7208>"
      ]
     },
     "execution_count": 17,
     "metadata": {},
     "output_type": "execute_result"
    },
    {
     "data": {
      "image/png": "[encoded data removed]",
      "text/plain": [
       "<matplotlib.figure.Figure at 0x7f44f5f11c88>"
      ]
     },
     "metadata": {},
     "output_type": "display_data"
    }
   ],
   "source": [
    "npr, bpr, ar = plt.hist(evp,label=\"production mode\",range=(0,800),bins=64,histtype=\"step\",lw=0.5,color=\"blue\")\n",
    "ndr, bdr, ar = plt.hist(evd,label=\"decay mode\",range=(0,800),bins=bpr,histtype=\"step\",lw=0.5,color=\"red\")\n",
    "\n",
    "npN, bpN, a = plt.hist(evp,label=\"production mode\",weights=np.ones_like(evp)/len(evp),range=(0,800),bins=bpr,histtype=\"step\",lw=0.5,color=\"blue\")\n",
    "ndN, bdN, a = plt.hist(evd,label=\"decay mode\",weights=np.ones_like(evd)/len(evd),range=(0,800),bins=bpr,histtype=\"step\",lw=0.5,color=\"red\")\n",
    "plt.grid(alpha=0.5)\n",
    "\n",
    "plt.legend(loc=\"best\")"
   ]
  },
  {
   "cell_type": "code",
   "execution_count": 63,
   "metadata": {},
   "outputs": [
    {
     "name": "stderr",
     "output_type": "stream",
     "text": [
      "/home/salv/.local/lib/python3.5/site-packages/ipykernel_launcher.py:7: RuntimeWarning: divide by zero encountered in true_divide\n",
      "  import sys\n",
      "/home/salv/.local/lib/python3.5/site-packages/ipykernel_launcher.py:7: RuntimeWarning: invalid value encountered in multiply\n",
      "  import sys\n",
      "/home/salv/.local/lib/python3.5/site-packages/ipykernel_launcher.py:8: RuntimeWarning: divide by zero encountered in true_divide\n",
      "  \n",
      "/home/salv/.local/lib/python3.5/site-packages/ipykernel_launcher.py:8: RuntimeWarning: invalid value encountered in multiply\n",
      "  \n",
      "/home/salv/.local/lib/python3.5/site-packages/matplotlib/legend.py:634: UserWarning: Unrecognized location \"Best\". Falling back on \"best\"; valid locations are\n",
      "\tcenter right\n",
      "\tlower right\n",
      "\tbest\n",
      "\tupper center\n",
      "\tright\n",
      "\tcenter left\n",
      "\tlower left\n",
      "\tupper right\n",
      "\tcenter\n",
      "\tlower center\n",
      "\tupper left\n",
      "\n",
      "  % (loc, '\\n\\t'.join(self.codes)))\n"
     ]
    },
    {
     "data": {
      "image/png": "[encoded data removed]",
      "text/plain": [
       "<matplotlib.figure.Figure at 0x7f44f4940860>"
      ]
     },
     "metadata": {},
     "output_type": "display_data"
    }
   ],
   "source": [
    "npr, bpr, ar = plt.hist(evp,label=\"production mode\",range=(0,800),bins=64,histtype=\"step\",lw=0.5,color=\"blue\")\n",
    "ndr, bdr, ar = plt.hist(evd,label=\"decay mode\",range=(0,800),bins=bpr,histtype=\"step\",lw=0.5,color=\"red\")\n",
    "plt.close()\n",
    "npN, bpN, a1 = plt.hist(evp,label=\"production mode\",weights=np.ones_like(evp)/len(evp),range=(0,800),bins=bpr,histtype=\"step\",lw=0.5,color=\"blue\")\n",
    "ndN, bdN, a2 = plt.hist(evd,label=\"decay mode\",weights=np.ones_like(evd)/len(evd),range=(0,800),bins=bpr,histtype=\"step\",lw=0.5,color=\"red\")\n",
    "\n",
    "plot_error_region2(npN,1/np.sqrt(npr)*npN, bpr,\"blue\")\n",
    "plot_error_region2(ndN,1/np.sqrt(ndr)*ndN, bpr,\"red\")\n",
    "plt.grid(alpha=0.5)\n",
    "plt.xlabel(r\"$p_T(\\gamma) /$GeV\")\n",
    "plt.ylabel(\" N \",rotation=0)\n",
    "ax = plt.gca()\n",
    "ax.yaxis.set_label_coords(-0.12,0.5)\n",
    "plt.legend(title=\"\\t\"+r\"$\\sqrt{s} = 13$TeV\",loc=\"Best\")\n",
    "plt.savefig(\"Untitled Folder/test.pdf\",bbox_inches=\"tight\")"
   ]
  },
  {
   "cell_type": "code",
   "execution_count": null,
   "metadata": {},
   "outputs": [],
   "source": []
  }
 ],
 "metadata": {
  "kernelspec": {
   "display_name": "Python 3",
   "language": "python",
   "name": "python3"
  },
  "language_info": {
   "codemirror_mode": {
    "name": "ipython",
    "version": 3
   },
   "file_extension": ".py",
   "mimetype": "text/x-python",
   "name": "python",
   "nbconvert_exporter": "python",
   "pygments_lexer": "ipython3",
   "version": "3.5.2"
  }
 },
 "nbformat": 4,
 "nbformat_minor": 2
}
